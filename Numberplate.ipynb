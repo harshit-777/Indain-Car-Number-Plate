{
  "nbformat": 4,
  "nbformat_minor": 0,
  "metadata": {
    "colab": {
      "name": "Numberplate.ipynb",
      "provenance": [],
      "collapsed_sections": []
    },
    "kernelspec": {
      "name": "python3",
      "display_name": "Python 3"
    },
    "accelerator": "GPU"
  },
  "cells": [
    {
      "cell_type": "code",
      "metadata": {
        "id": "anbQTEYEHhcv",
        "colab_type": "code",
        "colab": {
          "base_uri": "https://localhost:8080/",
          "height": 34
        },
        "outputId": "185f0b4b-cc78-430f-f55e-44e761b9b1f4"
      },
      "source": [
        "import pandas as pd\n",
        "import urllib\n",
        "import matplotlib.pyplot as plt\n",
        "import numpy as np\n",
        "import cv2\n",
        "import glob\n",
        "import os\n",
        "import time\n",
        "\n",
        "from PIL import Image\n",
        "from keras.layers import Flatten,Dense,Conv2D,MaxPooling2D,Input,Dropout\n",
        "from keras.models import Model,Sequential\n",
        "from keras.preprocessing.image import ImageDataGenerator\n",
        "from keras.optimizers import Adam \n",
        "\n",
        "\n"
      ],
      "execution_count": null,
      "outputs": [
        {
          "output_type": "stream",
          "text": [
            "Using TensorFlow backend.\n"
          ],
          "name": "stderr"
        }
      ]
    },
    {
      "cell_type": "code",
      "metadata": {
        "id": "q-FSF9Kqz6jH",
        "colab_type": "code",
        "colab": {
          "base_uri": "https://localhost:8080/",
          "height": 34
        },
        "outputId": "0d57e5a5-0807-4faf-bc8c-4a7226ebd945"
      },
      "source": [
        ""
      ],
      "execution_count": null,
      "outputs": [
        {
          "output_type": "stream",
          "text": [
            "/content/drive/My Drive/DeepLearning-Krish/Number plate\n"
          ],
          "name": "stdout"
        }
      ]
    },
    {
      "cell_type": "code",
      "metadata": {
        "id": "Px069zSqJNKg",
        "colab_type": "code",
        "colab": {
          "base_uri": "https://localhost:8080/",
          "height": 54
        },
        "outputId": "9147a7fc-e303-403f-85e5-7dcaadd7d232"
      },
      "source": [
        "for dirname , _ , filenames in os.walk('/content/drive/My Drive/DeepLearning-Krish/Number plate'):\n",
        "  for filename in filenames:\n",
        "    print(os.path.join(dirname,filename))"
      ],
      "execution_count": null,
      "outputs": [
        {
          "output_type": "stream",
          "text": [
            "/content/drive/My Drive/DeepLearning-Krish/Number plate/Indian_Number_plates.json\n"
          ],
          "name": "stdout"
        }
      ]
    },
    {
      "cell_type": "code",
      "metadata": {
        "id": "gCwijpAuJ8pY",
        "colab_type": "code",
        "colab": {}
      },
      "source": [
        "df = pd.read_json(\"/content/drive/My Drive/DeepLearning-Krish/Number plate/Indian_Number_plates.json\",lines=True)"
      ],
      "execution_count": null,
      "outputs": []
    },
    {
      "cell_type": "code",
      "metadata": {
        "id": "AmSETYQLKTRF",
        "colab_type": "code",
        "colab": {
          "base_uri": "https://localhost:8080/",
          "height": 289
        },
        "outputId": "c6a04d26-a7b7-4e7a-a96f-d8af9eab9b22"
      },
      "source": [
        "df.head(5)"
      ],
      "execution_count": null,
      "outputs": [
        {
          "output_type": "execute_result",
          "data": {
            "text/html": [
              "<div>\n",
              "<style scoped>\n",
              "    .dataframe tbody tr th:only-of-type {\n",
              "        vertical-align: middle;\n",
              "    }\n",
              "\n",
              "    .dataframe tbody tr th {\n",
              "        vertical-align: top;\n",
              "    }\n",
              "\n",
              "    .dataframe thead th {\n",
              "        text-align: right;\n",
              "    }\n",
              "</style>\n",
              "<table border=\"1\" class=\"dataframe\">\n",
              "  <thead>\n",
              "    <tr style=\"text-align: right;\">\n",
              "      <th></th>\n",
              "      <th>content</th>\n",
              "      <th>annotation</th>\n",
              "      <th>extras</th>\n",
              "    </tr>\n",
              "  </thead>\n",
              "  <tbody>\n",
              "    <tr>\n",
              "      <th>0</th>\n",
              "      <td>http://com.dataturks.a96-i23.open.s3.amazonaws...</td>\n",
              "      <td>[{'label': ['number_plate'], 'notes': '', 'poi...</td>\n",
              "      <td>NaN</td>\n",
              "    </tr>\n",
              "    <tr>\n",
              "      <th>1</th>\n",
              "      <td>http://com.dataturks.a96-i23.open.s3.amazonaws...</td>\n",
              "      <td>[{'label': ['number_plate'], 'notes': '', 'poi...</td>\n",
              "      <td>NaN</td>\n",
              "    </tr>\n",
              "    <tr>\n",
              "      <th>2</th>\n",
              "      <td>http://com.dataturks.a96-i23.open.s3.amazonaws...</td>\n",
              "      <td>[{'label': ['number_plate'], 'notes': '', 'poi...</td>\n",
              "      <td>NaN</td>\n",
              "    </tr>\n",
              "    <tr>\n",
              "      <th>3</th>\n",
              "      <td>http://com.dataturks.a96-i23.open.s3.amazonaws...</td>\n",
              "      <td>[{'label': ['number_plate'], 'notes': '', 'poi...</td>\n",
              "      <td>NaN</td>\n",
              "    </tr>\n",
              "    <tr>\n",
              "      <th>4</th>\n",
              "      <td>http://com.dataturks.a96-i23.open.s3.amazonaws...</td>\n",
              "      <td>[{'label': ['number_plate'], 'notes': '', 'poi...</td>\n",
              "      <td>NaN</td>\n",
              "    </tr>\n",
              "  </tbody>\n",
              "</table>\n",
              "</div>"
            ],
            "text/plain": [
              "                                             content  ... extras\n",
              "0  http://com.dataturks.a96-i23.open.s3.amazonaws...  ...    NaN\n",
              "1  http://com.dataturks.a96-i23.open.s3.amazonaws...  ...    NaN\n",
              "2  http://com.dataturks.a96-i23.open.s3.amazonaws...  ...    NaN\n",
              "3  http://com.dataturks.a96-i23.open.s3.amazonaws...  ...    NaN\n",
              "4  http://com.dataturks.a96-i23.open.s3.amazonaws...  ...    NaN\n",
              "\n",
              "[5 rows x 3 columns]"
            ]
          },
          "metadata": {
            "tags": []
          },
          "execution_count": 7
        }
      ]
    },
    {
      "cell_type": "code",
      "metadata": {
        "id": "2wCR0t2WKci5",
        "colab_type": "code",
        "colab": {}
      },
      "source": [
        "os.mkdir(\"Indian Number Plates\")"
      ],
      "execution_count": null,
      "outputs": []
    },
    {
      "cell_type": "code",
      "metadata": {
        "id": "ZEeo6wFULa83",
        "colab_type": "code",
        "colab": {
          "base_uri": "https://localhost:8080/",
          "height": 34
        },
        "outputId": "44b0709c-b804-404e-e7d8-95385131af21"
      },
      "source": [
        "dataset = dict()\n",
        "dataset[\"image_name\"] = list()\n",
        "dataset[\"image_width\"] = list()\n",
        "dataset[\"image_height\"] = list()\n",
        "dataset[\"top_x\"] = list()\n",
        "dataset[\"top_y\"] = list()\n",
        "dataset[\"bottom_x\"] = list()\n",
        "dataset[\"bottom_y\"] = list()\n",
        "\n",
        "counter = 0\n",
        "for index, row in df.iterrows():\n",
        "    img = urllib.request.urlopen(row[\"content\"])\n",
        "    img = Image.open(img)\n",
        "    img = img.convert('RGB')\n",
        "    img.save(\"Indian Number Plates/licensed_car{}.jpeg\".format(counter), \"JPEG\")\n",
        "    \n",
        "    dataset[\"image_name\"].append(\"licensed_car{}\".format(counter))\n",
        "    \n",
        "    data = row[\"annotation\"]\n",
        "    \n",
        "    dataset[\"image_width\"].append(data[0][\"imageWidth\"])\n",
        "    dataset[\"image_height\"].append(data[0][\"imageHeight\"])\n",
        "    dataset[\"top_x\"].append(data[0][\"points\"][0][\"x\"])\n",
        "    dataset[\"top_y\"].append(data[0][\"points\"][0][\"y\"])\n",
        "    dataset[\"bottom_x\"].append(data[0][\"points\"][1][\"x\"])\n",
        "    dataset[\"bottom_y\"].append(data[0][\"points\"][1][\"y\"])\n",
        "    \n",
        "    counter += 1\n",
        "print(\"Downloaded {} car images.\".format(counter))"
      ],
      "execution_count": null,
      "outputs": [
        {
          "output_type": "stream",
          "text": [
            "Downloaded 237 car images.\n"
          ],
          "name": "stdout"
        }
      ]
    },
    {
      "cell_type": "code",
      "metadata": {
        "id": "XTBAv9zpZ4m9",
        "colab_type": "code",
        "colab": {
          "base_uri": "https://localhost:8080/",
          "height": 224
        },
        "outputId": "043b52fd-ce11-4015-85c4-fd37a81646c3"
      },
      "source": [
        "df = pd.DataFrame(dataset)\n",
        "df.head()"
      ],
      "execution_count": null,
      "outputs": [
        {
          "output_type": "execute_result",
          "data": {
            "text/html": [
              "<div>\n",
              "<style scoped>\n",
              "    .dataframe tbody tr th:only-of-type {\n",
              "        vertical-align: middle;\n",
              "    }\n",
              "\n",
              "    .dataframe tbody tr th {\n",
              "        vertical-align: top;\n",
              "    }\n",
              "\n",
              "    .dataframe thead th {\n",
              "        text-align: right;\n",
              "    }\n",
              "</style>\n",
              "<table border=\"1\" class=\"dataframe\">\n",
              "  <thead>\n",
              "    <tr style=\"text-align: right;\">\n",
              "      <th></th>\n",
              "      <th>image_name</th>\n",
              "      <th>image_width</th>\n",
              "      <th>image_height</th>\n",
              "      <th>top_x</th>\n",
              "      <th>top_y</th>\n",
              "      <th>bottom_x</th>\n",
              "      <th>bottom_y</th>\n",
              "    </tr>\n",
              "  </thead>\n",
              "  <tbody>\n",
              "    <tr>\n",
              "      <th>0</th>\n",
              "      <td>licensed_car0</td>\n",
              "      <td>806</td>\n",
              "      <td>466</td>\n",
              "      <td>0.722084</td>\n",
              "      <td>0.587983</td>\n",
              "      <td>0.868486</td>\n",
              "      <td>0.688841</td>\n",
              "    </tr>\n",
              "    <tr>\n",
              "      <th>1</th>\n",
              "      <td>licensed_car1</td>\n",
              "      <td>494</td>\n",
              "      <td>449</td>\n",
              "      <td>0.161943</td>\n",
              "      <td>0.850780</td>\n",
              "      <td>0.582996</td>\n",
              "      <td>1.000000</td>\n",
              "    </tr>\n",
              "    <tr>\n",
              "      <th>2</th>\n",
              "      <td>licensed_car2</td>\n",
              "      <td>500</td>\n",
              "      <td>314</td>\n",
              "      <td>0.082000</td>\n",
              "      <td>0.697452</td>\n",
              "      <td>0.230000</td>\n",
              "      <td>0.828025</td>\n",
              "    </tr>\n",
              "    <tr>\n",
              "      <th>3</th>\n",
              "      <td>licensed_car3</td>\n",
              "      <td>500</td>\n",
              "      <td>469</td>\n",
              "      <td>0.434000</td>\n",
              "      <td>0.667377</td>\n",
              "      <td>0.718000</td>\n",
              "      <td>0.765458</td>\n",
              "    </tr>\n",
              "    <tr>\n",
              "      <th>4</th>\n",
              "      <td>licensed_car4</td>\n",
              "      <td>1001</td>\n",
              "      <td>563</td>\n",
              "      <td>0.208791</td>\n",
              "      <td>0.390764</td>\n",
              "      <td>0.865135</td>\n",
              "      <td>0.984014</td>\n",
              "    </tr>\n",
              "  </tbody>\n",
              "</table>\n",
              "</div>"
            ],
            "text/plain": [
              "      image_name  image_width  image_height  ...     top_y  bottom_x  bottom_y\n",
              "0  licensed_car0          806           466  ...  0.587983  0.868486  0.688841\n",
              "1  licensed_car1          494           449  ...  0.850780  0.582996  1.000000\n",
              "2  licensed_car2          500           314  ...  0.697452  0.230000  0.828025\n",
              "3  licensed_car3          500           469  ...  0.667377  0.718000  0.765458\n",
              "4  licensed_car4         1001           563  ...  0.390764  0.865135  0.984014\n",
              "\n",
              "[5 rows x 7 columns]"
            ]
          },
          "metadata": {
            "tags": []
          },
          "execution_count": 33
        }
      ]
    },
    {
      "cell_type": "code",
      "metadata": {
        "id": "B417k1k-xm9n",
        "colab_type": "code",
        "colab": {
          "base_uri": "https://localhost:8080/",
          "height": 35
        },
        "outputId": "b4dce0a1-d0da-40a4-f6be-5f8bb49f951d"
      },
      "source": [
        "cd drive/"
      ],
      "execution_count": null,
      "outputs": [
        {
          "output_type": "execute_result",
          "data": {
            "application/vnd.google.colaboratory.intrinsic": {
              "type": "string"
            },
            "text/plain": [
              "'/content'"
            ]
          },
          "metadata": {
            "tags": []
          },
          "execution_count": 2
        }
      ]
    },
    {
      "cell_type": "code",
      "metadata": {
        "id": "IHb7ySS2aG6E",
        "colab_type": "code",
        "colab": {}
      },
      "source": [
        "df.to_csv(\"Number_plate.csv\",index=False)"
      ],
      "execution_count": null,
      "outputs": []
    },
    {
      "cell_type": "code",
      "metadata": {
        "id": "KTLzjamdaW04",
        "colab_type": "code",
        "colab": {
          "base_uri": "https://localhost:8080/",
          "height": 224
        },
        "outputId": "c0183e56-86a9-4253-e92b-728c84de4f88"
      },
      "source": [
        "df = pd.read_csv(\"Number_plate.csv\")\n",
        "df['image_name'] = df['image_name'] + \".jpeg\"\n",
        "df.head(5)"
      ],
      "execution_count": null,
      "outputs": [
        {
          "output_type": "execute_result",
          "data": {
            "text/html": [
              "<div>\n",
              "<style scoped>\n",
              "    .dataframe tbody tr th:only-of-type {\n",
              "        vertical-align: middle;\n",
              "    }\n",
              "\n",
              "    .dataframe tbody tr th {\n",
              "        vertical-align: top;\n",
              "    }\n",
              "\n",
              "    .dataframe thead th {\n",
              "        text-align: right;\n",
              "    }\n",
              "</style>\n",
              "<table border=\"1\" class=\"dataframe\">\n",
              "  <thead>\n",
              "    <tr style=\"text-align: right;\">\n",
              "      <th></th>\n",
              "      <th>image_name</th>\n",
              "      <th>image_width</th>\n",
              "      <th>image_height</th>\n",
              "      <th>top_x</th>\n",
              "      <th>top_y</th>\n",
              "      <th>bottom_x</th>\n",
              "      <th>bottom_y</th>\n",
              "    </tr>\n",
              "  </thead>\n",
              "  <tbody>\n",
              "    <tr>\n",
              "      <th>0</th>\n",
              "      <td>licensed_car0.jpeg</td>\n",
              "      <td>806</td>\n",
              "      <td>466</td>\n",
              "      <td>0.722084</td>\n",
              "      <td>0.587983</td>\n",
              "      <td>0.868486</td>\n",
              "      <td>0.688841</td>\n",
              "    </tr>\n",
              "    <tr>\n",
              "      <th>1</th>\n",
              "      <td>licensed_car1.jpeg</td>\n",
              "      <td>494</td>\n",
              "      <td>449</td>\n",
              "      <td>0.161943</td>\n",
              "      <td>0.850780</td>\n",
              "      <td>0.582996</td>\n",
              "      <td>1.000000</td>\n",
              "    </tr>\n",
              "    <tr>\n",
              "      <th>2</th>\n",
              "      <td>licensed_car2.jpeg</td>\n",
              "      <td>500</td>\n",
              "      <td>314</td>\n",
              "      <td>0.082000</td>\n",
              "      <td>0.697452</td>\n",
              "      <td>0.230000</td>\n",
              "      <td>0.828025</td>\n",
              "    </tr>\n",
              "    <tr>\n",
              "      <th>3</th>\n",
              "      <td>licensed_car3.jpeg</td>\n",
              "      <td>500</td>\n",
              "      <td>469</td>\n",
              "      <td>0.434000</td>\n",
              "      <td>0.667377</td>\n",
              "      <td>0.718000</td>\n",
              "      <td>0.765458</td>\n",
              "    </tr>\n",
              "    <tr>\n",
              "      <th>4</th>\n",
              "      <td>licensed_car4.jpeg</td>\n",
              "      <td>1001</td>\n",
              "      <td>563</td>\n",
              "      <td>0.208791</td>\n",
              "      <td>0.390764</td>\n",
              "      <td>0.865135</td>\n",
              "      <td>0.984014</td>\n",
              "    </tr>\n",
              "  </tbody>\n",
              "</table>\n",
              "</div>"
            ],
            "text/plain": [
              "           image_name  image_width  image_height  ...     top_y  bottom_x  bottom_y\n",
              "0  licensed_car0.jpeg          806           466  ...  0.587983  0.868486  0.688841\n",
              "1  licensed_car1.jpeg          494           449  ...  0.850780  0.582996  1.000000\n",
              "2  licensed_car2.jpeg          500           314  ...  0.697452  0.230000  0.828025\n",
              "3  licensed_car3.jpeg          500           469  ...  0.667377  0.718000  0.765458\n",
              "4  licensed_car4.jpeg         1001           563  ...  0.390764  0.865135  0.984014\n",
              "\n",
              "[5 rows x 7 columns]"
            ]
          },
          "metadata": {
            "tags": []
          },
          "execution_count": 5
        }
      ]
    },
    {
      "cell_type": "code",
      "metadata": {
        "id": "p2oMMhq4a2Mp",
        "colab_type": "code",
        "colab": {
          "base_uri": "https://localhost:8080/",
          "height": 204
        },
        "outputId": "c5896c11-6aa7-42d8-d397-55972091ce58"
      },
      "source": [
        "df.drop([\"image_width\", \"image_height\"], axis=1, inplace=True)\n",
        "df.head()"
      ],
      "execution_count": null,
      "outputs": [
        {
          "output_type": "execute_result",
          "data": {
            "text/html": [
              "<div>\n",
              "<style scoped>\n",
              "    .dataframe tbody tr th:only-of-type {\n",
              "        vertical-align: middle;\n",
              "    }\n",
              "\n",
              "    .dataframe tbody tr th {\n",
              "        vertical-align: top;\n",
              "    }\n",
              "\n",
              "    .dataframe thead th {\n",
              "        text-align: right;\n",
              "    }\n",
              "</style>\n",
              "<table border=\"1\" class=\"dataframe\">\n",
              "  <thead>\n",
              "    <tr style=\"text-align: right;\">\n",
              "      <th></th>\n",
              "      <th>image_name</th>\n",
              "      <th>top_x</th>\n",
              "      <th>top_y</th>\n",
              "      <th>bottom_x</th>\n",
              "      <th>bottom_y</th>\n",
              "    </tr>\n",
              "  </thead>\n",
              "  <tbody>\n",
              "    <tr>\n",
              "      <th>0</th>\n",
              "      <td>licensed_car0.jpeg</td>\n",
              "      <td>0.722084</td>\n",
              "      <td>0.587983</td>\n",
              "      <td>0.868486</td>\n",
              "      <td>0.688841</td>\n",
              "    </tr>\n",
              "    <tr>\n",
              "      <th>1</th>\n",
              "      <td>licensed_car1.jpeg</td>\n",
              "      <td>0.161943</td>\n",
              "      <td>0.850780</td>\n",
              "      <td>0.582996</td>\n",
              "      <td>1.000000</td>\n",
              "    </tr>\n",
              "    <tr>\n",
              "      <th>2</th>\n",
              "      <td>licensed_car2.jpeg</td>\n",
              "      <td>0.082000</td>\n",
              "      <td>0.697452</td>\n",
              "      <td>0.230000</td>\n",
              "      <td>0.828025</td>\n",
              "    </tr>\n",
              "    <tr>\n",
              "      <th>3</th>\n",
              "      <td>licensed_car3.jpeg</td>\n",
              "      <td>0.434000</td>\n",
              "      <td>0.667377</td>\n",
              "      <td>0.718000</td>\n",
              "      <td>0.765458</td>\n",
              "    </tr>\n",
              "    <tr>\n",
              "      <th>4</th>\n",
              "      <td>licensed_car4.jpeg</td>\n",
              "      <td>0.208791</td>\n",
              "      <td>0.390764</td>\n",
              "      <td>0.865135</td>\n",
              "      <td>0.984014</td>\n",
              "    </tr>\n",
              "  </tbody>\n",
              "</table>\n",
              "</div>"
            ],
            "text/plain": [
              "           image_name     top_x     top_y  bottom_x  bottom_y\n",
              "0  licensed_car0.jpeg  0.722084  0.587983  0.868486  0.688841\n",
              "1  licensed_car1.jpeg  0.161943  0.850780  0.582996  1.000000\n",
              "2  licensed_car2.jpeg  0.082000  0.697452  0.230000  0.828025\n",
              "3  licensed_car3.jpeg  0.434000  0.667377  0.718000  0.765458\n",
              "4  licensed_car4.jpeg  0.208791  0.390764  0.865135  0.984014"
            ]
          },
          "metadata": {
            "tags": []
          },
          "execution_count": 6
        }
      ]
    },
    {
      "cell_type": "code",
      "metadata": {
        "id": "2MZjXGsAbBMf",
        "colab_type": "code",
        "colab": {}
      },
      "source": [
        "#drop random 5-6 model\n",
        "random_drop = np.random.randint(0,len(df),5)\n",
        "\n",
        "new_df = df.drop(random_drop,axis=0)\n"
      ],
      "execution_count": null,
      "outputs": []
    },
    {
      "cell_type": "code",
      "metadata": {
        "id": "8jD-MleRbdB9",
        "colab_type": "code",
        "colab": {}
      },
      "source": [
        "WIDTH = 224\n",
        "HEIGHT = 224\n",
        "CHANNEL = 3\n",
        "\n",
        "def show_img(index):\n",
        "    image = cv2.imread(\"Indian Number Plates/\" + df[\"image_name\"].iloc[index])\n",
        "    image = cv2.cvtColor(image, cv2.COLOR_BGR2RGB)\n",
        "    image = cv2.resize(image, dsize=(WIDTH, HEIGHT))\n",
        "\n",
        "    tx = int(df[\"top_x\"].iloc[index] * WIDTH)\n",
        "    ty = int(df[\"top_y\"].iloc[index] * HEIGHT)\n",
        "    bx = int(df[\"bottom_x\"].iloc[index] * WIDTH)\n",
        "    by = int(df[\"bottom_y\"].iloc[index] * HEIGHT)\n",
        "\n",
        "    image = cv2.rectangle(image, (tx, ty), (bx, by), (0, 255, 255), 3)\n",
        "    plt.imshow(image)\n",
        "    plt.axis(\"off\")\n",
        "    plt.show()"
      ],
      "execution_count": null,
      "outputs": []
    },
    {
      "cell_type": "code",
      "metadata": {
        "id": "SiLUHigo2Klp",
        "colab_type": "code",
        "colab": {
          "base_uri": "https://localhost:8080/",
          "height": 248
        },
        "outputId": "8bc1a0a5-1511-478d-de2b-5dd908544117"
      },
      "source": [
        "show_img(12)"
      ],
      "execution_count": null,
      "outputs": [
        {
          "output_type": "display_data",
          "data": {
            "image/png": "[encoded data removed]",
            "text/plain": [
              "<Figure size 432x288 with 1 Axes>"
            ]
          },
          "metadata": {
            "tags": [],
            "needs_background": "light"
          }
        }
      ]
    },
    {
      "cell_type": "code",
      "metadata": {
        "id": "YO4AXaK035pl",
        "colab_type": "code",
        "colab": {
          "base_uri": "https://localhost:8080/",
          "height": 51
        },
        "outputId": "12f70a4d-435f-48d3-d936-76b346e6bb86"
      },
      "source": [
        "datagen = ImageDataGenerator(rescale=1./255, validation_split=0.1)\n",
        "\n",
        "train_generator = datagen.flow_from_dataframe(\n",
        "    new_df,\n",
        "    directory=\"Indian Number Plates/\",\n",
        "    x_col=\"image_name\",\n",
        "    y_col=[\"top_x\", \"top_y\", \"bottom_x\", \"bottom_y\"],\n",
        "    target_size=(WIDTH, HEIGHT),\n",
        "    batch_size=32, \n",
        "    class_mode=\"raw\",\n",
        "    subset=\"training\")\n",
        "\n",
        "validation_generator = datagen.flow_from_dataframe(\n",
        "    new_df,\n",
        "    directory=\"Indian Number Plates/\",\n",
        "    x_col=\"image_name\",\n",
        "    y_col=[\"top_x\", \"top_y\", \"bottom_x\", \"bottom_y\"],\n",
        "    target_size=(WIDTH, HEIGHT),\n",
        "    batch_size=32, \n",
        "    class_mode=\"raw\",\n",
        "    subset=\"validation\")"
      ],
      "execution_count": null,
      "outputs": [
        {
          "output_type": "stream",
          "text": [
            "Found 209 validated image filenames.\n",
            "Found 23 validated image filenames.\n"
          ],
          "name": "stdout"
        }
      ]
    },
    {
      "cell_type": "code",
      "metadata": {
        "id": "5Jn5Io6y9znf",
        "colab_type": "code",
        "colab": {
          "base_uri": "https://localhost:8080/",
          "height": 411
        },
        "outputId": "e6c63e5d-e5ab-4319-d5bd-fa83f99744fb"
      },
      "source": [
        "from keras.applications.vgg16 import VGG16\n",
        "model = Sequential()\n",
        "model.add(VGG16(weights=\"imagenet\", include_top=False, input_shape=(HEIGHT, WIDTH, CHANNEL)))\n",
        "model.add(Flatten())\n",
        "model.add(Dense(128, activation=\"relu\"))\n",
        "model.add(Dense(64, activation=\"relu\"))\n",
        "model.add(Dense(64, activation=\"relu\"))\n",
        "model.add(Dense(4, activation=\"sigmoid\"))\n",
        "\n",
        "model.layers[-6].trainable = False\n",
        "\n",
        "model.summary()"
      ],
      "execution_count": null,
      "outputs": [
        {
          "output_type": "stream",
          "text": [
            "Downloading data from https://github.com/fchollet/deep-learning-models/releases/download/v0.1/vgg16_weights_tf_dim_ordering_tf_kernels_notop.h5\n",
            "58892288/58889256 [==============================] - 2s 0us/step\n",
            "Model: \"sequential_2\"\n",
            "_________________________________________________________________\n",
            "Layer (type)                 Output Shape              Param #   \n",
            "=================================================================\n",
            "vgg16 (Model)                (None, 7, 7, 512)         14714688  \n",
            "_________________________________________________________________\n",
            "flatten_1 (Flatten)          (None, 25088)             0         \n",
            "_________________________________________________________________\n",
            "dense_1 (Dense)              (None, 128)               3211392   \n",
            "_________________________________________________________________\n",
            "dense_2 (Dense)              (None, 64)                8256      \n",
            "_________________________________________________________________\n",
            "dense_3 (Dense)              (None, 64)                4160      \n",
            "_________________________________________________________________\n",
            "dense_4 (Dense)              (None, 4)                 260       \n",
            "=================================================================\n",
            "Total params: 17,938,756\n",
            "Trainable params: 3,224,068\n",
            "Non-trainable params: 14,714,688\n",
            "_________________________________________________________________\n"
          ],
          "name": "stdout"
        }
      ]
    },
    {
      "cell_type": "markdown",
      "metadata": {
        "id": "JkpLPKylC2fP",
        "colab_type": "text"
      },
      "source": [
        "## To find the minimum amount of step count to cover all the batches, the following equations are necessary. Mathematically;\n",
        "\n",
        "- Step size=⌈Number of elements/Batch Size⌉"
      ]
    },
    {
      "cell_type": "code",
      "metadata": {
        "id": "-aIa4qYGCZuW",
        "colab_type": "code",
        "colab": {}
      },
      "source": [
        "STEP_SIZE_TRAIN = int(np.ceil(train_generator.n / train_generator.batch_size))\n",
        "STEP_SIZE_VAL = int(np.ceil(validation_generator.n / validation_generator.batch_size))"
      ],
      "execution_count": null,
      "outputs": []
    },
    {
      "cell_type": "code",
      "metadata": {
        "id": "MrqjAmRnCkq8",
        "colab_type": "code",
        "colab": {
          "base_uri": "https://localhost:8080/",
          "height": 34
        },
        "outputId": "8c8e82ba-86d0-4c35-c8ff-2f19675a4d34"
      },
      "source": [
        "print(STEP_SIZE_TRAIN)"
      ],
      "execution_count": null,
      "outputs": [
        {
          "output_type": "stream",
          "text": [
            "7\n"
          ],
          "name": "stdout"
        }
      ]
    },
    {
      "cell_type": "code",
      "metadata": {
        "id": "-XS2-3ZtCrc-",
        "colab_type": "code",
        "colab": {
          "base_uri": "https://localhost:8080/",
          "height": 34
        },
        "outputId": "e1d6e3ab-71fd-4e0f-a1aa-db6e5fd8e5d4"
      },
      "source": [
        "print(STEP_SIZE_VAL)"
      ],
      "execution_count": null,
      "outputs": [
        {
          "output_type": "stream",
          "text": [
            "1\n"
          ],
          "name": "stdout"
        }
      ]
    },
    {
      "cell_type": "code",
      "metadata": {
        "id": "TiPKoFBtDAke",
        "colab_type": "code",
        "colab": {}
      },
      "source": [
        "adam = Adam(lr=0.0005)\n",
        "model.compile(optimizer=adam, loss=\"mse\")"
      ],
      "execution_count": null,
      "outputs": []
    },
    {
      "cell_type": "code",
      "metadata": {
        "id": "SW1h1S8nDIGG",
        "colab_type": "code",
        "colab": {
          "base_uri": "https://localhost:8080/",
          "height": 1000
        },
        "outputId": "ba30be7b-016d-4ed1-afca-b5ddfa60782c"
      },
      "source": [
        "trainig_model = model.fit_generator(train_generator,\n",
        "    steps_per_epoch=STEP_SIZE_TRAIN,\n",
        "    validation_data=validation_generator,\n",
        "    validation_steps=STEP_SIZE_VAL,\n",
        "    epochs=30)"
      ],
      "execution_count": null,
      "outputs": [
        {
          "output_type": "stream",
          "text": [
            "Epoch 1/30\n",
            "7/7 [==============================] - 130s 19s/step - loss: 0.0560 - val_loss: 0.0302\n",
            "Epoch 2/30\n",
            "7/7 [==============================] - 1s 153ms/step - loss: 0.0193 - val_loss: 0.0237\n",
            "Epoch 3/30\n",
            "7/7 [==============================] - 2s 265ms/step - loss: 0.0133 - val_loss: 0.0193\n",
            "Epoch 4/30\n",
            "7/7 [==============================] - 2s 258ms/step - loss: 0.0083 - val_loss: 0.0173\n",
            "Epoch 5/30\n",
            "7/7 [==============================] - 2s 262ms/step - loss: 0.0050 - val_loss: 0.0158\n",
            "Epoch 6/30\n",
            "7/7 [==============================] - 2s 266ms/step - loss: 0.0032 - val_loss: 0.0153\n",
            "Epoch 7/30\n",
            "7/7 [==============================] - 2s 258ms/step - loss: 0.0022 - val_loss: 0.0137\n",
            "Epoch 8/30\n",
            "7/7 [==============================] - 2s 260ms/step - loss: 0.0017 - val_loss: 0.0140\n",
            "Epoch 9/30\n",
            "7/7 [==============================] - 2s 261ms/step - loss: 0.0011 - val_loss: 0.0136\n",
            "Epoch 10/30\n",
            "7/7 [==============================] - 2s 268ms/step - loss: 8.7334e-04 - val_loss: 0.0129\n",
            "Epoch 11/30\n",
            "7/7 [==============================] - 2s 260ms/step - loss: 6.2520e-04 - val_loss: 0.0133\n",
            "Epoch 12/30\n",
            "7/7 [==============================] - 2s 266ms/step - loss: 5.1341e-04 - val_loss: 0.0131\n",
            "Epoch 13/30\n",
            "7/7 [==============================] - 2s 265ms/step - loss: 4.2075e-04 - val_loss: 0.0137\n",
            "Epoch 14/30\n",
            "7/7 [==============================] - 2s 272ms/step - loss: 3.5820e-04 - val_loss: 0.0132\n",
            "Epoch 15/30\n",
            "7/7 [==============================] - 2s 271ms/step - loss: 2.8223e-04 - val_loss: 0.0132\n",
            "Epoch 16/30\n",
            "7/7 [==============================] - 2s 269ms/step - loss: 2.1586e-04 - val_loss: 0.0130\n",
            "Epoch 17/30\n",
            "7/7 [==============================] - 2s 275ms/step - loss: 1.7554e-04 - val_loss: 0.0134\n",
            "Epoch 18/30\n",
            "7/7 [==============================] - 2s 274ms/step - loss: 1.5901e-04 - val_loss: 0.0131\n",
            "Epoch 19/30\n",
            "7/7 [==============================] - 2s 269ms/step - loss: 1.3471e-04 - val_loss: 0.0130\n",
            "Epoch 20/30\n",
            "7/7 [==============================] - 2s 271ms/step - loss: 1.2167e-04 - val_loss: 0.0132\n",
            "Epoch 21/30\n",
            "7/7 [==============================] - 2s 277ms/step - loss: 1.2558e-04 - val_loss: 0.0132\n",
            "Epoch 22/30\n",
            "7/7 [==============================] - 2s 273ms/step - loss: 1.0774e-04 - val_loss: 0.0130\n",
            "Epoch 23/30\n",
            "7/7 [==============================] - 2s 270ms/step - loss: 1.0714e-04 - val_loss: 0.0133\n",
            "Epoch 24/30\n",
            "7/7 [==============================] - 2s 269ms/step - loss: 9.6791e-05 - val_loss: 0.0134\n",
            "Epoch 25/30\n",
            "7/7 [==============================] - 2s 276ms/step - loss: 1.0321e-04 - val_loss: 0.0134\n",
            "Epoch 26/30\n",
            "7/7 [==============================] - 2s 265ms/step - loss: 8.4159e-05 - val_loss: 0.0132\n",
            "Epoch 27/30\n",
            "7/7 [==============================] - 2s 262ms/step - loss: 1.0392e-04 - val_loss: 0.0129\n",
            "Epoch 28/30\n",
            "7/7 [==============================] - 2s 270ms/step - loss: 9.6312e-05 - val_loss: 0.0134\n",
            "Epoch 29/30\n",
            "7/7 [==============================] - 2s 274ms/step - loss: 9.4485e-05 - val_loss: 0.0134\n",
            "Epoch 30/30\n",
            "7/7 [==============================] - 2s 268ms/step - loss: 1.3223e-04 - val_loss: 0.0132\n"
          ],
          "name": "stdout"
        }
      ]
    },
    {
      "cell_type": "code",
      "metadata": {
        "id": "2iFIpcPlD9fm",
        "colab_type": "code",
        "colab": {
          "base_uri": "https://localhost:8080/",
          "height": 295
        },
        "outputId": "d9af174f-58aa-4fb7-f0b4-f73e1fa9a014"
      },
      "source": [
        "plt.plot(trainig_model.history['loss'])\n",
        "plt.plot(trainig_model.history['val_loss'])\n",
        "plt.title('Model loss')\n",
        "plt.ylabel('Loss')\n",
        "plt.xlabel('Epoch')\n",
        "plt.legend(['Train', 'Validation'], loc='upper left')\n",
        "plt.show()"
      ],
      "execution_count": null,
      "outputs": [
        {
          "output_type": "display_data",
          "data": {
            "image/png": "[encoded data removed]",
            "text/plain": [
              "<Figure size 432x288 with 1 Axes>"
            ]
          },
          "metadata": {
            "tags": [],
            "needs_background": "light"
          }
        }
      ]
    },
    {
      "cell_type": "code",
      "metadata": {
        "id": "s7zYeFjSEEFz",
        "colab_type": "code",
        "colab": {
          "base_uri": "https://localhost:8080/",
          "height": 34
        },
        "outputId": "b77f6482-9b7a-47fe-9162-c82f258478ca"
      },
      "source": [
        "model.evaluate_generator(validation_generator, steps=STEP_SIZE_VAL)"
      ],
      "execution_count": null,
      "outputs": [
        {
          "output_type": "execute_result",
          "data": {
            "text/plain": [
              "0.013202653266489506"
            ]
          },
          "metadata": {
            "tags": []
          },
          "execution_count": 40
        }
      ]
    },
    {
      "cell_type": "code",
      "metadata": {
        "id": "7Iff6EK7EHvD",
        "colab_type": "code",
        "colab": {}
      },
      "source": [
        ""
      ],
      "execution_count": null,
      "outputs": []
    }
  ]
}